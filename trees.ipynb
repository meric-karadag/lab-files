{
 "cells": [
  {
   "cell_type": "code",
   "execution_count": 1,
   "metadata": {},
   "outputs": [],
   "source": [
    "def datum(tree):\n",
    "    return tree[0]\n",
    "def left(tree):\n",
    "    return tree[1]\n",
    "def right(tree):\n",
    "    return tree[2]\n",
    "def isempty(tree):\n",
    "    return tree == []\n",
    "def isleaf(tree):\n",
    "    return left(tree) == [] and right(tree) == []\n",
    "def makenode(datum, left=[], right=[]):\n",
    "    return [datum, left, right]"
   ]
  },
  {
   "cell_type": "code",
   "execution_count": 7,
   "metadata": {},
   "outputs": [],
   "source": [
    "\"\"\"      1\n",
    "       /   \\\n",
    "     10     20\n",
    "    /   \\     \\\n",
    "  11     12    21 \n",
    " /  \\   /     /  \\\n",
    "4    5 6     7    8\n",
    "            /    /\n",
    "           56   65\"\"\"\n",
    "\n",
    "tree = [1, [10,[11,[4,[],[]],[5,[],[]]],[12,[6,[],[]],[]]],[20,[],[21,[7,[56,[],[]],[]],[8,[65,[],[]],[]]]]]"
   ]
  },
  {
   "cell_type": "code",
   "execution_count": 8,
   "metadata": {},
   "outputs": [],
   "source": [
    "def count_leaves(tree):\n",
    "    if isempty(tree):\n",
    "        return 0\n",
    "    if isleaf(tree):\n",
    "        return 1\n",
    "    else:\n",
    "        return count_leaves(left(tree)) + count_leaves(right(tree))"
   ]
  },
  {
   "cell_type": "code",
   "execution_count": 9,
   "metadata": {},
   "outputs": [
    {
     "data": {
      "text/plain": [
       "226"
      ]
     },
     "execution_count": 9,
     "metadata": {},
     "output_type": "execute_result"
    }
   ],
   "source": [
    "def sum_tree(tree):\n",
    "    if isempty(tree):\n",
    "        return 0\n",
    "    elif isleaf(tree):\n",
    "        return datum(tree)\n",
    "    else:\n",
    "        return datum(tree)+ sum_tree(left(tree)) + sum_tree(right(tree))\n",
    "    \n",
    "sum_tree(tree)"
   ]
  },
  {
   "cell_type": "code",
   "execution_count": 19,
   "metadata": {},
   "outputs": [
    {
     "name": "stdout",
     "output_type": "stream",
     "text": [
      "[2, 1, 3]\n",
      "\n",
      "[3, 2, 4, 1, 6, 5, 7]\n",
      "\n",
      "[4, 11, 5, 10, 6, 12, 1, 20, 56, 7, 21, 65, 8]\n"
     ]
    }
   ],
   "source": [
    "def inorder(tree):\n",
    "    if isempty(tree): return []\n",
    "    else:\n",
    "        return inorder(left(tree)) + [datum(tree)] + inorder(right(tree))\n",
    "\n",
    "print(inorder([1, [2, [], []], [3, [], []]])) #[2, 1, 3]\n",
    "print()\n",
    "print(inorder([1, [2, [3, [], []], [4, [], []]], [5, [6, [], []], [7, [], []]]])) #[3, 2, 4, 1, 6, 5, 7]\n",
    "print()\n",
    "print(inorder(tree)) #[4, 11, 5, 10, 6, 12, 1, 20, 56, 7, 21, 65, 8]]"
   ]
  },
  {
   "cell_type": "code",
   "execution_count": 21,
   "metadata": {},
   "outputs": [
    {
     "name": "stdout",
     "output_type": "stream",
     "text": [
      "True\n",
      "False\n",
      "False\n"
     ]
    }
   ],
   "source": [
    "def isbinary(tree):\n",
    "    if isleaf(tree) and len(tree) ==3:\n",
    "        return True\n",
    "    if len(tree) == 3:\n",
    "        return isbinary(left(tree)) and isbinary(right(tree))\n",
    "    else : return False\n",
    "\n",
    "print(isbinary([1, [2, [], []], [3, [], []]])) # True\n",
    "print(isbinary([1, [2], [3], [4]])) #False\n",
    "print(isbinary([1, [2, [20]], [3, [30]], [4, [40]]])) #False"
   ]
  },
  {
   "cell_type": "code",
   "execution_count": 30,
   "metadata": {},
   "outputs": [
    {
     "name": "stdout",
     "output_type": "stream",
     "text": [
      "2\n",
      "3\n",
      "4\n"
     ]
    }
   ],
   "source": [
    "def maxdepth(tree):\n",
    "    if isempty(tree): return 0\n",
    "\n",
    "    return 1 + max(maxdepth(left(tree)), maxdepth(right(tree)))\n",
    "\n",
    "print(maxdepth([1, [2, [], []], [3, [], []]])) #2\n",
    "print(maxdepth([1, [2, [], []], [3, [4, [], []], [5, [], []]]])) #3\n",
    "print(maxdepth([1, [2, [6, [], []], [7, [8, [], []], [9, [], []]]], [3, [4, [], []], [5, [], []]]])) #3\n"
   ]
  },
  {
   "cell_type": "code",
   "execution_count": 33,
   "metadata": {},
   "outputs": [
    {
     "name": "stdout",
     "output_type": "stream",
     "text": [
      "[8, [4.0, [2.0, [1], [1]], [2.0, [1], [1]]], [4.0, [2.0, [1], [1]], [2.0, [1], [1]]]]\n",
      "[7, [4, [2.0, [1], [1]], [2.0, [1], [1]]], [3, [2, [1], [1]], [1]]]\n",
      "[2, [1], [1]]\n",
      "[1]\n"
     ]
    }
   ],
   "source": [
    "def numparts(number):\n",
    "    if number == 1:\n",
    "        #return makenode(1)\n",
    "        return [1]\n",
    "    if number % 2 == 0:\n",
    "        return makenode(number, left=numparts(number/2), right=numparts(number/2))\n",
    "    else:\n",
    "        return makenode(number, left=numparts(number//2 + 1), right=numparts(number//2))\n",
    "\n",
    "print(numparts(8))\n",
    "print(numparts(7))\n",
    "print(numparts(2))\n",
    "print(numparts(1))"
   ]
  },
  {
   "cell_type": "code",
   "execution_count": 34,
   "metadata": {},
   "outputs": [
    {
     "name": "stdout",
     "output_type": "stream",
     "text": [
      "True\n",
      "False\n",
      "True\n",
      "True\n"
     ]
    }
   ],
   "source": [
    "def checkmul(tree):\n",
    "\n",
    "    if isleaf(tree):\n",
    "        return True\n",
    "    else:\n",
    "        return (datum(tree) == datum(left(tree)) * datum(right(tree))) and (checkmul(left(tree))) and (checkmul(right(tree)))\n",
    "\n",
    "print(checkmul([15, [3, [], []], [5, [], []]])) #true\n",
    "print(checkmul([7, [3, [], []], [5, [], []]])) #false\n",
    "print(checkmul([-35, [7, [], []], [-5, [-1, [], []], [5, [], []]]])) #true\n",
    "print(checkmul([72, [8, [4, [], []], [2, [-1, [], []], [-2, [], []]]], [9, [], []]])) #true\n"
   ]
  },
  {
   "cell_type": "code",
   "execution_count": 35,
   "metadata": {},
   "outputs": [
    {
     "name": "stdout",
     "output_type": "stream",
     "text": [
      "False\n",
      "True\n",
      "True\n",
      "False\n"
     ]
    }
   ],
   "source": [
    "def isordered(tree):\n",
    "    \n",
    "    if isleaf(tree):\n",
    "        return True\n",
    "    else:\n",
    "        return (datum(tree)>datum(left(tree))) and (datum(tree)<datum(right(tree))) and (isordered(left(tree))) and isordered(right(tree))\n",
    "\n",
    "print(isordered([1, [2, [], []], [3, [], []]])) #false\n",
    "print(isordered([2, [1, [], []], [3, [], []]]))#true\n",
    "print(isordered([2, [1, [], []], [4, [3, [], []], [7, [], []]]]))#true\n",
    "print(isordered([2, [1, [], []], [4, [3, [], []], [4, [], []]]]))#false"
   ]
  },
  {
   "cell_type": "code",
   "execution_count": 37,
   "metadata": {},
   "outputs": [
    {
     "name": "stdout",
     "output_type": "stream",
     "text": [
      "True\n",
      "True\n",
      "True\n",
      "False\n",
      "True\n"
     ]
    }
   ],
   "source": [
    "def path_exists(tree,path):\n",
    "\n",
    "    if path ==\"\": #(not isempty(tree) or isleaf(tree))and \n",
    "        return True\n",
    "    elif isempty(tree) and path !=\"\":\n",
    "        return False\n",
    "    \n",
    "    if datum(tree) == path[0]:\n",
    "        return path_exists(left(tree), path[1:]) or path_exists(right(tree), path[1:])\n",
    "    else:\n",
    "        return path_exists(left(tree), path) or path_exists(right(tree), path)\n",
    "\n",
    "print(path_exists(['a', ['b', ['c', [], []], ['d', [], []]], ['e', [], []]], 'bc')) #true\n",
    "print(path_exists(['a', ['b', ['c', [], []], ['d', ['1', [], []], ['2', [], []]]], ['e', [], []]], 'bd')) #true\n",
    "print(path_exists(['a', ['b', ['c', [], []], ['d', [], []]], ['e', [], []]], 'abd')) #true\n",
    "print(path_exists(['a', ['b', ['c', [], []], ['d', ['k', [], []], []]], ['e', [], []]], 'abe')) #false\n",
    "print(path_exists(['a', ['b', ['c', [], ['g', [], []]], ['d', [], []]], ['e', ['f'], []]], 'ae')) #true"
   ]
  },
  {
   "cell_type": "code",
   "execution_count": null,
   "metadata": {},
   "outputs": [],
   "source": []
  }
 ],
 "metadata": {
  "interpreter": {
   "hash": "aee8b7b246df8f9039afb4144a1f6fd8d2ca17a180786b69acc140d282b71a49"
  },
  "kernelspec": {
   "display_name": "Python 3.10.4 64-bit",
   "language": "python",
   "name": "python3"
  },
  "language_info": {
   "codemirror_mode": {
    "name": "ipython",
    "version": 3
   },
   "file_extension": ".py",
   "mimetype": "text/x-python",
   "name": "python",
   "nbconvert_exporter": "python",
   "pygments_lexer": "ipython3",
   "version": "3.10.4"
  },
  "orig_nbformat": 4
 },
 "nbformat": 4,
 "nbformat_minor": 2
}
