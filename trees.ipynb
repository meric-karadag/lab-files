{
 "cells": [
  {
   "cell_type": "code",
   "execution_count": 1,
   "metadata": {},
   "outputs": [],
   "source": [
    "def datum(tree):\n",
    "    return tree[0]\n",
    "def left(tree):\n",
    "    return tree[1]\n",
    "def right(tree):\n",
    "    return tree[2]\n",
    "def isempty(tree):\n",
    "    return tree == []\n",
    "def isleaf(tree):\n",
    "    return left(tree) == [] and right(tree) == []\n",
    "def makenode(datum, left=[], right=[]):\n",
    "    return [datum, left, right]"
   ]
  },
  {
   "cell_type": "code",
   "execution_count": 3,
   "metadata": {},
   "outputs": [],
   "source": [
    "\"\"\"      1\n",
    "       /   \\\n",
    "     10     20\n",
    "    /   \\     \\\n",
    "  11     12    21 \n",
    " /  \\   /     /  \\\n",
    "4    5 6     7    8\n",
    "            /    /\n",
    "           56   65\"\"\"\n",
    "\n",
    "tree = [1, [10,[11,[4,[],[]],[5,[],[]]],[12,[6,[],[]],[]]],[20,[],[21,[7,[56,[],[]],[]],[8,[65,[],[]],[]]]]]"
   ]
  },
  {
   "cell_type": "code",
   "execution_count": 8,
   "metadata": {},
   "outputs": [
    {
     "name": "stdout",
     "output_type": "stream",
     "text": [
      "[1, 10, 11, 4, 5, 12, 6, 20, 21, 7, 56, 8, 65]\n"
     ]
    }
   ],
   "source": [
    "def preorder(tree):\n",
    "    if isempty(tree):\n",
    "        return []\n",
    "    return [datum(tree)] + preorder(left(tree)) + preorder(right(tree))\n",
    "\n",
    "print(preorder(tree))"
   ]
  },
  {
   "cell_type": "code",
   "execution_count": null,
   "metadata": {},
   "outputs": [],
   "source": [
    "def inorder(tree):\n",
    "    if isempty(tree): return []\n",
    "    else:\n",
    "        return inorder(left(tree)) + [datum(tree)] + inorder(right(tree))\n",
    "\n",
    "print(inorder([1, [2, [], []], [3, [], []]])) #[2, 1, 3]\n",
    "print()\n",
    "print(inorder([1, [2, [3, [], []], [4, [], []]], [5, [6, [], []], [7, [], []]]])) #[3, 2, 4, 1, 6, 5, 7]\n",
    "print()\n",
    "print(inorder(tree)) #[4, 11, 5, 10, 6, 12, 1, 20, 56, 7, 21, 65, 8]]"
   ]
  },
  {
   "cell_type": "code",
   "execution_count": 4,
   "metadata": {},
   "outputs": [],
   "source": [
    "def count_leaves(tree):\n",
    "    if isempty(tree):\n",
    "        return 0\n",
    "    if isleaf(tree):\n",
    "        return 1\n",
    "    else:\n",
    "        return count_leaves(left(tree)) + count_leaves(right(tree))"
   ]
  },
  {
   "cell_type": "code",
   "execution_count": 5,
   "metadata": {},
   "outputs": [
    {
     "data": {
      "text/plain": [
       "226"
      ]
     },
     "execution_count": 5,
     "metadata": {},
     "output_type": "execute_result"
    }
   ],
   "source": [
    "def sum_tree(tree):\n",
    "    if isempty(tree):\n",
    "        return 0\n",
    "    elif isleaf(tree):\n",
    "        return datum(tree)\n",
    "    else:\n",
    "        return datum(tree)+ sum_tree(left(tree)) + sum_tree(right(tree))\n",
    "    \n",
    "sum_tree(tree)"
   ]
  },
  {
   "cell_type": "code",
   "execution_count": null,
   "metadata": {},
   "outputs": [],
   "source": [
    "def isbinary(tree):\n",
    "    if isleaf(tree) and len(tree) ==3:\n",
    "        return True\n",
    "    if len(tree) == 3:\n",
    "        return isbinary(left(tree)) and isbinary(right(tree))\n",
    "    else : return False\n",
    "\n",
    "print(isbinary([1, [2, [], []], [3, [], []]])) # True\n",
    "print(isbinary([1, [2], [3], [4]])) #False\n",
    "print(isbinary([1, [2, [20]], [3, [30]], [4, [40]]])) #False"
   ]
  },
  {
   "cell_type": "code",
   "execution_count": null,
   "metadata": {},
   "outputs": [],
   "source": [
    "def maxdepth(tree):\n",
    "    if isempty(tree): return 0\n",
    "\n",
    "    return 1 + max(maxdepth(left(tree)), maxdepth(right(tree)))\n",
    "\n",
    "print(maxdepth([1, [2, [], []], [3, [], []]])) #2\n",
    "print(maxdepth([1, [2, [], []], [3, [4, [], []], [5, [], []]]])) #3\n",
    "print(maxdepth([1, [2, [6, [], []], [7, [8, [], []], [9, [], []]]], [3, [4, [], []], [5, [], []]]])) #3\n"
   ]
  },
  {
   "cell_type": "code",
   "execution_count": 10,
   "metadata": {},
   "outputs": [
    {
     "name": "stdout",
     "output_type": "stream",
     "text": [
      "[8, [4.0, [2.0, [1], [1]], [2.0, [1], [1]]], [4.0, [2.0, [1], [1]], [2.0, [1], [1]]]]\n",
      "[7, [4, [2.0, [1], [1]], [2.0, [1], [1]]], [3, [2, [1], [1]], [1]]]\n",
      "[2, [1], [1]]\n",
      "[1]\n"
     ]
    }
   ],
   "source": [
    "def numparts(number):\n",
    "    if number == 1:\n",
    "        #return makenode(1)\n",
    "        return [1]\n",
    "    if number % 2 == 0:\n",
    "        return makenode(number, left=numparts(number/2), right=numparts(number/2))\n",
    "    else:\n",
    "        return makenode(number, left=numparts(number//2 + 1), right=numparts(number//2))\n",
    "\n",
    "print(numparts(8))\n",
    "print(numparts(7))\n",
    "print(numparts(2))\n",
    "print(numparts(1))"
   ]
  },
  {
   "cell_type": "code",
   "execution_count": null,
   "metadata": {},
   "outputs": [],
   "source": [
    "def checkmul(tree):\n",
    "\n",
    "    if isleaf(tree):\n",
    "        return True\n",
    "    else:\n",
    "        return (datum(tree) == datum(left(tree)) * datum(right(tree))) and (checkmul(left(tree))) and (checkmul(right(tree)))\n",
    "\n",
    "print(checkmul([15, [3, [], []], [5, [], []]])) #true\n",
    "print(checkmul([7, [3, [], []], [5, [], []]])) #false\n",
    "print(checkmul([-35, [7, [], []], [-5, [-1, [], []], [5, [], []]]])) #true\n",
    "print(checkmul([72, [8, [4, [], []], [2, [-1, [], []], [-2, [], []]]], [9, [], []]])) #true\n"
   ]
  },
  {
   "cell_type": "code",
   "execution_count": null,
   "metadata": {},
   "outputs": [],
   "source": [
    "def isordered(tree):\n",
    "    \n",
    "    if isleaf(tree):\n",
    "        return True\n",
    "    else:\n",
    "        return (datum(tree)>datum(left(tree))) and (datum(tree)<datum(right(tree))) and (isordered(left(tree))) and isordered(right(tree))\n",
    "\n",
    "print(isordered([1, [2, [], []], [3, [], []]])) #false\n",
    "print(isordered([2, [1, [], []], [3, [], []]]))#true\n",
    "print(isordered([2, [1, [], []], [4, [3, [], []], [7, [], []]]]))#true\n",
    "print(isordered([2, [1, [], []], [4, [3, [], []], [4, [], []]]]))#false"
   ]
  },
  {
   "cell_type": "code",
   "execution_count": null,
   "metadata": {},
   "outputs": [],
   "source": [
    "def path_exists(tree,path):\n",
    "\n",
    "    if path ==\"\": #(not isempty(tree) or isleaf(tree))and \n",
    "        return True\n",
    "    elif isempty(tree) and path !=\"\":\n",
    "        return False\n",
    "    \n",
    "    if datum(tree) == path[0]:\n",
    "        return path_exists(left(tree), path[1:]) or path_exists(right(tree), path[1:])\n",
    "    else:\n",
    "        return path_exists(left(tree), path) or path_exists(right(tree), path)\n",
    "\n",
    "print(path_exists(['a', ['b', ['c', [], []], ['d', [], []]], ['e', [], []]], 'bc')) #true\n",
    "print(path_exists(['a', ['b', ['c', [], []], ['d', ['1', [], []], ['2', [], []]]], ['e', [], []]], 'bd')) #true\n",
    "print(path_exists(['a', ['b', ['c', [], []], ['d', [], []]], ['e', [], []]], 'abd')) #true\n",
    "print(path_exists(['a', ['b', ['c', [], []], ['d', ['k', [], []], []]], ['e', [], []]], 'abe')) #false\n",
    "print(path_exists(['a', ['b', ['c', [], ['g', [], []]], ['d', [], []]], ['e', ['f'], []]], 'ae')) #true"
   ]
  },
  {
   "cell_type": "code",
   "execution_count": null,
   "metadata": {},
   "outputs": [],
   "source": [
    "def path_has_sum(tree, num):\n",
    "    if isempty(tree):\n",
    "        return False\n",
    "\n",
    "    # check if the current node value equals the given number\n",
    "    if datum(tree) == num:\n",
    "        return True\n",
    "    if not isempty(left(tree)) and not isempty(right(tree)):\n",
    "        return path_has_sum(left(tree), num - datum(tree)) or\\\n",
    "        path_has_sum(right(tree), num - datum(tree)) or\\\n",
    "        path_has_sum(left(tree), num) or\\\n",
    "        path_has_sum(right(tree), num) or\\\n",
    "        path_has_sum(right(tree), num-datum(tree)-datum(left(tree))) or\\\n",
    "        path_has_sum(left(tree), num-datum(tree)-datum(right(tree)))\n",
    "    elif not isempty(left(tree)):\n",
    "        return path_has_sum(left(tree), num - datum(tree)) or\\\n",
    "        path_has_sum(right(tree), num - datum(tree)) or\\\n",
    "        path_has_sum(left(tree), num) or\\\n",
    "        path_has_sum(right(tree), num) or\\\n",
    "        path_has_sum(right(tree), num-datum(tree)-datum(left(tree)))\n",
    "    elif not isempty(right(tree)):\n",
    "        return path_has_sum(left(tree), num - datum(tree)) or\\\n",
    "        path_has_sum(right(tree), num - datum(tree)) or\\\n",
    "        path_has_sum(left(tree), num) or\\\n",
    "        path_has_sum(right(tree), num) or\\\n",
    "        path_has_sum(left(tree), num-datum(tree)-datum(right(tree)))\n",
    "    else:\n",
    "        return False\n",
    "\n",
    "        # check if the sum of the values along any path in the left or right subtree equals the given number\n",
    "    return path_has_sum(left(tree), num - datum(tree)) or\\\n",
    "    path_has_sum(right(tree), num - datum(tree)) or\\\n",
    "    path_has_sum(left(tree), num) or\\\n",
    "    path_has_sum(right(tree), num) or\\\n",
    "    path_has_sum(right(tree), num-datum(tree)-datum(left(tree))) or\\\n",
    "    path_has_sum(left(tree), num-datum(tree)-datum(right(tree)))\n",
    "\n",
    "\n",
    "#all of the following are true\n",
    "\n",
    "print(path_has_sum([1, [6, [], []], [4, [], []]], 5)) \n",
    "print(path_has_sum([1, [6, [3, [], []], []], [4, [], []]], 4))\n",
    "print(path_has_sum([1, [6, [], []], [4, [2, [], []], [3, [], []]]], 4))\n",
    "print(path_has_sum([1, [6, [], []], [4, [2, [], []], [3, [2, [], []], []]]], 16))"
   ]
  },
  {
   "cell_type": "code",
   "execution_count": 9,
   "metadata": {},
   "outputs": [
    {
     "name": "stdout",
     "output_type": "stream",
     "text": [
      "ceng\n",
      "['c', 'eng']\n",
      "['aliveli', ['a', 'b']]\n"
     ]
    }
   ],
   "source": [
    "def build(tree):\n",
    "    if len(tree) ==1: #could be isleaf(tree) if used empty lists for leaves\n",
    "        # return the leaf node value if the node is a leaf node\n",
    "        return datum(tree)\n",
    "    elif datum(tree) == 'string':\n",
    "        # build and return the string by concatenating the values of the left and right subtrees if the node is of type 'string'\n",
    "        return build(left(tree)) + build(right(tree))\n",
    "    elif datum(tree) == 'list':\n",
    "        # build and return the list by appending the values of the left and right subtrees if the node is of type 'list'\n",
    "        return [build(left(tree))]  + [build(right(tree))]\n",
    "    \n",
    "print(build(['string', ['c'], ['eng']]))\n",
    "print(build(['list', ['c'], ['eng']]))\n",
    "print(build(['list', ['string', ['ali'], ['veli']], ['list', ['a'], ['b']]]))"
   ]
  },
  {
   "cell_type": "code",
   "execution_count": null,
   "metadata": {},
   "outputs": [],
   "source": [
    "def increasing_path(tree):\n",
    "    if isempty(tree):\n",
    "        return True\n",
    "    if isleaf(tree):\n",
    "        return True\n",
    "    if (not isempty(left(tree))) and (not isempty(right(tree))):\n",
    "        if datum(left(tree)) > datum(tree) and datum(right(tree)) > datum(tree):\n",
    "                return increasing_path(left(tree)) or increasing_path(right(tree))\n",
    "    if not isempty(left(tree)):\n",
    "        if datum(left(tree)) > datum(tree):\n",
    "            return increasing_path(left(tree))\n",
    "    elif not isempty(right(tree)):\n",
    "        if datum(right(tree)) > datum(tree):\n",
    "            return increasing_path(right(tree)) \n",
    "    return False     \n",
    "\n",
    "\n",
    "print(increasing_path([4, [2, [], []], [3, [], []]])) #false\n",
    "print(increasing_path([1, [2, [], []], [3, [], []]])) #true\n",
    "print(increasing_path([4, [2, [], []], [3, [1, [], []], [2, [], []]]])) #false\n",
    "print(increasing_path([4, [5, [], [6, [], [10, [], []]]], [3, [1, [], []], [6, [], []]]])) #true"
   ]
  },
  {
   "cell_type": "code",
   "execution_count": null,
   "metadata": {},
   "outputs": [],
   "source": [
    "def bst_search(x, tree):\n",
    "    if isempty(tree):\n",
    "        return False\n",
    "    if x == datum(tree):\n",
    "        return True\n",
    "    if x < datum(tree):\n",
    "        return bst_search(x,left(tree))\n",
    "    if x > datum(tree):\n",
    "        return bst_search(x, right(tree))\n",
    "    \n",
    "def bst_insert(x,tree):\n",
    "    if isempty(tree):\n",
    "        tree.extend(makenode(x))\n",
    "    if x > datum(tree):\n",
    "        bst_insert(x, right(tree))\n",
    "    if x < datum(tree):\n",
    "        bst_insert(x, left(tree))\n",
    "\n",
    "    "
   ]
  }
 ],
 "metadata": {
  "kernelspec": {
   "display_name": "Python 3.8.10 64-bit",
   "language": "python",
   "name": "python3"
  },
  "language_info": {
   "codemirror_mode": {
    "name": "ipython",
    "version": 3
   },
   "file_extension": ".py",
   "mimetype": "text/x-python",
   "name": "python",
   "nbconvert_exporter": "python",
   "pygments_lexer": "ipython3",
   "version": "3.8.10"
  },
  "orig_nbformat": 4,
  "vscode": {
   "interpreter": {
    "hash": "31f2aee4e71d21fbe5cf8b01ff0e069b9275f58929596ceb00d14d90e3e16cd6"
   }
  }
 },
 "nbformat": 4,
 "nbformat_minor": 2
}
